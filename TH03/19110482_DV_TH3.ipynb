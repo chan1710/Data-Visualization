{
 "cells": [
  {
   "cell_type": "markdown",
   "metadata": {},
   "source": [
    "# Môn Trực quan hoá dữ liệu\n",
    "* Bài tập: thực hành 3\n",
    "* Sinh viên: Huỳnh Thị Bảo Trân\n",
    "* MSSV: 19110482"
   ]
  },
  {
   "cell_type": "code",
   "execution_count": 7,
   "metadata": {},
   "outputs": [],
   "source": [
    "# cac thu vien duoc su dung\n",
    "\n",
    "import pandas as pd\n",
    "import numpy as np\n",
    "import plotly.express as px"
   ]
  },
  {
   "cell_type": "markdown",
   "metadata": {},
   "source": [
    "Chạy lại tiền xử lý để ra co2 và gdp dataframe"
   ]
  },
  {
   "cell_type": "code",
   "execution_count": 8,
   "metadata": {},
   "outputs": [],
   "source": [
    "# load du lieu tu file co2 va grapminder\n",
    "\n",
    "fi_co2 = pd.read_csv('co2.csv')\n",
    "fi_gm = pd.read_csv('gapminder.csv')"
   ]
  },
  {
   "cell_type": "code",
   "execution_count": 9,
   "metadata": {},
   "outputs": [],
   "source": [
    "data_gm = fi_gm[['Country', 'region']].drop_duplicates()\n",
    "data_regions = pd.merge(fi_co2, data_gm, left_on = 'country', \n",
    "                        right_on = 'Country', how = 'inner')\n",
    "data_regions = data_regions.drop('Country', axis = 'columns')\n",
    "\n",
    "new_co2 = pd.melt(data_regions, id_vars = ['country', 'region'])\n",
    "columns = ['country', 'region', 'year', 'co2']\n",
    "new_co2.columns = columns\n",
    "\n",
    "data_co2 = new_co2[new_co2['year'].astype('int64') > 1963]\n",
    "data_co2 = data_co2.sort_values(by = ['country', 'year'])\n",
    "data_co2['year'] = data_co2['year'].astype('int64')"
   ]
  },
  {
   "cell_type": "code",
   "execution_count": 10,
   "metadata": {},
   "outputs": [
    {
     "name": "stdout",
     "output_type": "stream",
     "text": [
      "          country              region  year     co2     gdp  population  \\\n",
      "0     Afghanistan          South Asia  1964  0.0863  1182.0  10474903.0   \n",
      "1     Afghanistan          South Asia  1965  0.1010  1182.0  10697983.0   \n",
      "2     Afghanistan          South Asia  1966  0.1080  1168.0  10927724.0   \n",
      "3     Afghanistan          South Asia  1967  0.1240  1173.0  11163656.0   \n",
      "4     Afghanistan          South Asia  1968  0.1160  1187.0  11411022.0   \n",
      "...           ...                 ...   ...     ...     ...         ...   \n",
      "8817     Zimbabwe  Sub-Saharan Africa  2009  0.4060  1352.0  12473992.0   \n",
      "8818     Zimbabwe  Sub-Saharan Africa  2010  0.5520  1484.0  12571454.0   \n",
      "8819     Zimbabwe  Sub-Saharan Africa  2011  0.6650  1626.0  12754378.0   \n",
      "8820     Zimbabwe  Sub-Saharan Africa  2012  0.5300  1750.0  13013678.0   \n",
      "8821     Zimbabwe  Sub-Saharan Africa  2013  0.7760  1773.0  13327925.0   \n",
      "\n",
      "      fertility    life  \n",
      "0         7.671  33.639  \n",
      "1         7.671  34.152  \n",
      "2         7.671  34.662  \n",
      "3         7.671  35.170  \n",
      "4         7.671  35.674  \n",
      "...         ...     ...  \n",
      "8817      3.792  51.234  \n",
      "8818      3.721  53.684  \n",
      "8819      3.643  56.040  \n",
      "8820      3.564  58.142  \n",
      "8821      3.486  59.871  \n",
      "\n",
      "[8202 rows x 8 columns]\n"
     ]
    }
   ],
   "source": [
    "data_g = fi_gm[['Country', 'Year', 'gdp', 'population', 'fertility', 'life']]\n",
    "data_g.columns = ['country', 'year', 'gdp', 'population', 'fertility', 'life']\n",
    "data = pd.merge(data_co2, data_g, on = ['country', 'year'], how = 'left')\n",
    "data = data.dropna()\n",
    "print(data)"
   ]
  },
  {
   "cell_type": "markdown",
   "metadata": {},
   "source": [
    "Tạo 1 scatter với x-axes và y-axes là \"year\" và \"co2\", Thêm 1 box plot cho \"co2\" values với marginaly_y parametes."
   ]
  },
  {
   "cell_type": "code",
   "execution_count": null,
   "metadata": {},
   "outputs": [],
   "source": []
  },
  {
   "cell_type": "markdown",
   "metadata": {},
   "source": [
    "Tạo 1 rug plot cho gdp values với marginal_x parametes, và thêm animation parameters trên cột year"
   ]
  },
  {
   "cell_type": "code",
   "execution_count": null,
   "metadata": {},
   "outputs": [],
   "source": []
  },
  {
   "cell_type": "markdown",
   "metadata": {},
   "source": [
    "Tạo 1 scatter plot với x-axes, y-axes lần lượt là \"gdp\" và \"co2\"."
   ]
  },
  {
   "cell_type": "code",
   "execution_count": null,
   "metadata": {},
   "outputs": [],
   "source": []
  },
  {
   "cell_type": "markdown",
   "metadata": {},
   "source": [
    "Tạo 1 desity contour với x-axes, y-axes lần lượt là \"gdp\" và \"co2\"."
   ]
  },
  {
   "cell_type": "code",
   "execution_count": null,
   "metadata": {},
   "outputs": [],
   "source": []
  }
 ],
 "metadata": {
  "interpreter": {
   "hash": "402b4e81388c1f2f4be1b77d36dbc53e404d5887932a4c90bdf792384ac7317c"
  },
  "kernelspec": {
   "display_name": "Python 3.9.7 64-bit ('base': conda)",
   "language": "python",
   "name": "python3"
  },
  "language_info": {
   "codemirror_mode": {
    "name": "ipython",
    "version": 3
   },
   "file_extension": ".py",
   "mimetype": "text/x-python",
   "name": "python",
   "nbconvert_exporter": "python",
   "pygments_lexer": "ipython3",
   "version": "3.9.7"
  },
  "orig_nbformat": 4
 },
 "nbformat": 4,
 "nbformat_minor": 2
}
