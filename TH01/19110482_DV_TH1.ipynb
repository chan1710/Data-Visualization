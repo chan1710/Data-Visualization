{
 "cells": [
  {
   "cell_type": "markdown",
   "metadata": {},
   "source": [
    "# Môn Trực quan hoá dữ liệu\n",
    "* Bài tập: thực hành 1\n",
    "* Sinh viên: Huỳnh Thị Bảo Trân\n",
    "* MSSV: 19110482"
   ]
  },
  {
   "cell_type": "markdown",
   "metadata": {},
   "source": [
    "1. Tìm hiểu ý nghĩa của các loại biểu đồ, đồ thị:\n",
    "Comparison, Composition, Relationship, Distribution."
   ]
  },
  {
   "cell_type": "markdown",
   "metadata": {},
   "source": []
  },
  {
   "cell_type": "markdown",
   "metadata": {},
   "source": [
    "2. Thực hành: "
   ]
  },
  {
   "cell_type": "code",
   "execution_count": 46,
   "metadata": {},
   "outputs": [],
   "source": [
    "# cac thu vien da duoc su dung (neu co)\n",
    "\n",
    "import matplotlib.pyplot as plt\n",
    "import seaborn as sns\n",
    "import pandas as pd"
   ]
  },
  {
   "cell_type": "markdown",
   "metadata": {},
   "source": [
    "a) Load data('COVID-19.csv') và trích lấy dữ liệu các cột sau: 'day','month','year','cases', 'deaths', 'countriesAndTerritories', 'continentExp' (trích data này là data để thực hiện các yêu cầu dưới)."
   ]
  },
  {
   "cell_type": "code",
   "execution_count": 47,
   "metadata": {},
   "outputs": [
    {
     "data": {
      "text/html": [
       "<div>\n",
       "<style scoped>\n",
       "    .dataframe tbody tr th:only-of-type {\n",
       "        vertical-align: middle;\n",
       "    }\n",
       "\n",
       "    .dataframe tbody tr th {\n",
       "        vertical-align: top;\n",
       "    }\n",
       "\n",
       "    .dataframe thead th {\n",
       "        text-align: right;\n",
       "    }\n",
       "</style>\n",
       "<table border=\"1\" class=\"dataframe\">\n",
       "  <thead>\n",
       "    <tr style=\"text-align: right;\">\n",
       "      <th></th>\n",
       "      <th>day</th>\n",
       "      <th>month</th>\n",
       "      <th>year</th>\n",
       "      <th>cases</th>\n",
       "      <th>deaths</th>\n",
       "      <th>countriesAndTerritories</th>\n",
       "      <th>continentExp</th>\n",
       "    </tr>\n",
       "  </thead>\n",
       "  <tbody>\n",
       "    <tr>\n",
       "      <th>0</th>\n",
       "      <td>20</td>\n",
       "      <td>10</td>\n",
       "      <td>2020</td>\n",
       "      <td>87</td>\n",
       "      <td>5</td>\n",
       "      <td>Afghanistan</td>\n",
       "      <td>Asia</td>\n",
       "    </tr>\n",
       "    <tr>\n",
       "      <th>1</th>\n",
       "      <td>19</td>\n",
       "      <td>10</td>\n",
       "      <td>2020</td>\n",
       "      <td>59</td>\n",
       "      <td>4</td>\n",
       "      <td>Afghanistan</td>\n",
       "      <td>Asia</td>\n",
       "    </tr>\n",
       "    <tr>\n",
       "      <th>2</th>\n",
       "      <td>18</td>\n",
       "      <td>10</td>\n",
       "      <td>2020</td>\n",
       "      <td>68</td>\n",
       "      <td>3</td>\n",
       "      <td>Afghanistan</td>\n",
       "      <td>Asia</td>\n",
       "    </tr>\n",
       "    <tr>\n",
       "      <th>3</th>\n",
       "      <td>17</td>\n",
       "      <td>10</td>\n",
       "      <td>2020</td>\n",
       "      <td>47</td>\n",
       "      <td>4</td>\n",
       "      <td>Afghanistan</td>\n",
       "      <td>Asia</td>\n",
       "    </tr>\n",
       "    <tr>\n",
       "      <th>4</th>\n",
       "      <td>16</td>\n",
       "      <td>10</td>\n",
       "      <td>2020</td>\n",
       "      <td>0</td>\n",
       "      <td>0</td>\n",
       "      <td>Afghanistan</td>\n",
       "      <td>Asia</td>\n",
       "    </tr>\n",
       "    <tr>\n",
       "      <th>...</th>\n",
       "      <td>...</td>\n",
       "      <td>...</td>\n",
       "      <td>...</td>\n",
       "      <td>...</td>\n",
       "      <td>...</td>\n",
       "      <td>...</td>\n",
       "      <td>...</td>\n",
       "    </tr>\n",
       "    <tr>\n",
       "      <th>50197</th>\n",
       "      <td>25</td>\n",
       "      <td>3</td>\n",
       "      <td>2020</td>\n",
       "      <td>0</td>\n",
       "      <td>0</td>\n",
       "      <td>Zimbabwe</td>\n",
       "      <td>Africa</td>\n",
       "    </tr>\n",
       "    <tr>\n",
       "      <th>50198</th>\n",
       "      <td>24</td>\n",
       "      <td>3</td>\n",
       "      <td>2020</td>\n",
       "      <td>0</td>\n",
       "      <td>1</td>\n",
       "      <td>Zimbabwe</td>\n",
       "      <td>Africa</td>\n",
       "    </tr>\n",
       "    <tr>\n",
       "      <th>50199</th>\n",
       "      <td>23</td>\n",
       "      <td>3</td>\n",
       "      <td>2020</td>\n",
       "      <td>0</td>\n",
       "      <td>0</td>\n",
       "      <td>Zimbabwe</td>\n",
       "      <td>Africa</td>\n",
       "    </tr>\n",
       "    <tr>\n",
       "      <th>50200</th>\n",
       "      <td>22</td>\n",
       "      <td>3</td>\n",
       "      <td>2020</td>\n",
       "      <td>1</td>\n",
       "      <td>0</td>\n",
       "      <td>Zimbabwe</td>\n",
       "      <td>Africa</td>\n",
       "    </tr>\n",
       "    <tr>\n",
       "      <th>50201</th>\n",
       "      <td>21</td>\n",
       "      <td>3</td>\n",
       "      <td>2020</td>\n",
       "      <td>1</td>\n",
       "      <td>0</td>\n",
       "      <td>Zimbabwe</td>\n",
       "      <td>Africa</td>\n",
       "    </tr>\n",
       "  </tbody>\n",
       "</table>\n",
       "<p>50202 rows × 7 columns</p>\n",
       "</div>"
      ],
      "text/plain": [
       "       day  month  year  cases  deaths countriesAndTerritories continentExp\n",
       "0       20     10  2020     87       5             Afghanistan         Asia\n",
       "1       19     10  2020     59       4             Afghanistan         Asia\n",
       "2       18     10  2020     68       3             Afghanistan         Asia\n",
       "3       17     10  2020     47       4             Afghanistan         Asia\n",
       "4       16     10  2020      0       0             Afghanistan         Asia\n",
       "...    ...    ...   ...    ...     ...                     ...          ...\n",
       "50197   25      3  2020      0       0                Zimbabwe       Africa\n",
       "50198   24      3  2020      0       1                Zimbabwe       Africa\n",
       "50199   23      3  2020      0       0                Zimbabwe       Africa\n",
       "50200   22      3  2020      1       0                Zimbabwe       Africa\n",
       "50201   21      3  2020      1       0                Zimbabwe       Africa\n",
       "\n",
       "[50202 rows x 7 columns]"
      ]
     },
     "execution_count": 47,
     "metadata": {},
     "output_type": "execute_result"
    }
   ],
   "source": [
    "# load du dieu tu file\n",
    "\n",
    "data_fi = pd.read_csv('COVID-19.csv')\n",
    "data = data_fi[['day', 'month', 'year', 'cases', 'deaths', 'countriesAndTerritories', 'continentExp']]\n",
    "data"
   ]
  },
  {
   "cell_type": "markdown",
   "metadata": {},
   "source": [
    "b) Vẽ 2 đồ thị histogram của columns cases và deaths trên cùng một cửa sổ (figure).(subplot)"
   ]
  },
  {
   "cell_type": "code",
   "execution_count": 48,
   "metadata": {},
   "outputs": [
    {
     "name": "stderr",
     "output_type": "stream",
     "text": [
      "C:\\Users\\Justmechan\\anaconda3\\lib\\site-packages\\seaborn\\distributions.py:2619: FutureWarning: `distplot` is a deprecated function and will be removed in a future version. Please adapt your code to use either `displot` (a figure-level function with similar flexibility) or `histplot` (an axes-level function for histograms).\n",
      "  warnings.warn(msg, FutureWarning)\n",
      "C:\\Users\\Justmechan\\anaconda3\\lib\\site-packages\\seaborn\\distributions.py:2619: FutureWarning: `distplot` is a deprecated function and will be removed in a future version. Please adapt your code to use either `displot` (a figure-level function with similar flexibility) or `histplot` (an axes-level function for histograms).\n",
      "  warnings.warn(msg, FutureWarning)\n"
     ]
    },
    {
     "data": {
      "image/png": "[encoded data removed]",
      "text/plain": [
       "<Figure size 1296x432 with 2 Axes>"
      ]
     },
     "metadata": {
      "needs_background": "light"
     },
     "output_type": "display_data"
    }
   ],
   "source": [
    "# ve do thi histogram cua cases va deaths\n",
    "\n",
    "plt.figure(figsize = (18, 6))\n",
    "plt.subplot(1, 2, 1)\n",
    "sns.distplot(data.cases)\n",
    "\n",
    "plt.subplot(1, 2, 2)\n",
    "sns.distplot(data.deaths)\n",
    "plt.show()"
   ]
  },
  {
   "cell_type": "markdown",
   "metadata": {},
   "source": [
    "c) Thống kê tổng số cases và deaths của từng quốc gia."
   ]
  },
  {
   "cell_type": "code",
   "execution_count": 49,
   "metadata": {},
   "outputs": [
    {
     "name": "stdout",
     "output_type": "stream",
     "text": [
      "                         cases  deaths\n",
      "countriesAndTerritories               \n",
      "Afghanistan              40287    1497\n",
      "Albania                  17350     454\n",
      "Algeria                  54616    1865\n",
      "Andorra                   3623      62\n",
      "Angola                    7622     247\n",
      "...                        ...     ...\n",
      "Vietnam                   1140      35\n",
      "Western_Sahara             766       1\n",
      "Yemen                     2060     599\n",
      "Zambia                   15897     346\n",
      "Zimbabwe                  8159     232\n",
      "\n",
      "[211 rows x 2 columns]\n"
     ]
    }
   ],
   "source": [
    "# trich du lieu theo quoc gia\n",
    "\n",
    "data_countries = data.groupby('countriesAndTerritories').sum()[['cases', 'deaths']]\n",
    "print(data_countries)"
   ]
  },
  {
   "cell_type": "markdown",
   "metadata": {},
   "source": [
    "d) Vẽ biểu đồ bar biểu diễn tổng case của 10 quốc gia có tổng cases lớn nhất.(Bằng 2 cách pandas, seaborn trên cùng figure)."
   ]
  },
  {
   "cell_type": "code",
   "execution_count": 50,
   "metadata": {},
   "outputs": [
    {
     "name": "stdout",
     "output_type": "stream",
     "text": [
      "       day  month  year  cases  deaths countriesAndTerritories continentExp\n",
      "21773   17      9  2020  97894    1132                   India         Asia\n",
      "21778   12      9  2020  97570    1201                   India         Asia\n",
      "21779   11      9  2020  96551    1209                   India         Asia\n",
      "21772   18      9  2020  96424    1174                   India         Asia\n",
      "21780   10      9  2020  95735    1172                   India         Asia\n",
      "21777   13      9  2020  94372    1114                   India         Asia\n",
      "21771   19      9  2020  93337    1247                   India         Asia\n",
      "21770   20      9  2020  92605    1133                   India         Asia\n",
      "21776   14      9  2020  92071    1136                   India         Asia\n",
      "21783    7      9  2020  90802    1016                   India         Asia\n"
     ]
    },
    {
     "data": {
      "text/plain": [
       "<seaborn.axisgrid.FacetGrid at 0x1c5a6d11520>"
      ]
     },
     "execution_count": 50,
     "metadata": {},
     "output_type": "execute_result"
    },
    {
     "data": {
      "image/png": "[encoded data removed]",
      "text/plain": [
       "<Figure size 648x360 with 1 Axes>"
      ]
     },
     "metadata": {
      "needs_background": "light"
     },
     "output_type": "display_data"
    },
    {
     "data": {
      "image/png": "[encoded data removed]",
      "text/plain": [
       "<Figure size 360x360 with 1 Axes>"
      ]
     },
     "metadata": {
      "needs_background": "light"
     },
     "output_type": "display_data"
    }
   ],
   "source": [
    "# trich du lieu 10 quoc gia lon nhat\n",
    "\n",
    "data_countries_cases = data.sort_values(by = ['cases'], ascending = False).head(10)\n",
    "print(data_countries_cases)\n",
    "\n",
    "# ve bieu do tong cases 10 quoc gia lon nhat\n",
    "\n",
    "data_countries_cases.plot(y = 'cases', kind ='bar', figsize = (9, 5))\n",
    "sns.catplot(y = 'cases', data = data_countries_cases, kind = 'count')"
   ]
  },
  {
   "cell_type": "markdown",
   "metadata": {},
   "source": [
    "e) Tương tự d) nhưng biểu diễn tổng deaths của 10 quốc gia có tổng death lớn nhất."
   ]
  },
  {
   "cell_type": "code",
   "execution_count": 51,
   "metadata": {},
   "outputs": [
    {
     "name": "stdout",
     "output_type": "stream",
     "text": [
      "       day  month  year  cases  deaths   countriesAndTerritories continentExp\n",
      "48133   16      4  2020  30148    4928  United_States_of_America      America\n",
      "36471   14      8  2020   9441    3935                      Peru      America\n",
      "36492   24      7  2020   4546    3887                      Peru      America\n",
      "13716    7      9  2020  -8261    3800                   Ecuador      America\n",
      "48131   18      4  2020  30833    3770  United_States_of_America      America\n",
      "1676     2     10  2020  14001    3351                 Argentina      America\n",
      "48125   24      4  2020  26543    3179  United_States_of_America      America\n",
      "30059    9     10  2020   4936    3013                    Mexico      America\n",
      "48119   30      4  2020  27326    2611  United_States_of_America      America\n",
      "48127   22      4  2020  37289    2524  United_States_of_America      America\n"
     ]
    },
    {
     "data": {
      "text/plain": [
       "<seaborn.axisgrid.FacetGrid at 0x1c5a4e5e4c0>"
      ]
     },
     "execution_count": 51,
     "metadata": {},
     "output_type": "execute_result"
    },
    {
     "data": {
      "image/png": "[encoded data removed]",
      "text/plain": [
       "<Figure size 648x360 with 1 Axes>"
      ]
     },
     "metadata": {
      "needs_background": "light"
     },
     "output_type": "display_data"
    },
    {
     "data": {
      "image/png": "[encoded data removed]",
      "text/plain": [
       "<Figure size 360x360 with 1 Axes>"
      ]
     },
     "metadata": {
      "needs_background": "light"
     },
     "output_type": "display_data"
    }
   ],
   "source": [
    "# trich du lieu bieu dien deaths của 10 quoc gia\n",
    "\n",
    "data_countries_deaths = data.sort_values(by = ['deaths'], ascending = False).head(10)\n",
    "print(data_countries_deaths)\n",
    "\n",
    "# ve bieu do bieu dien\n",
    "\n",
    "data_countries_deaths.plot(y = ['deaths'], kind = 'bar', figsize = (9, 5))\n",
    "sns.catplot(y = 'deaths', data = data_countries_deaths, kind = 'count')"
   ]
  },
  {
   "cell_type": "markdown",
   "metadata": {},
   "source": [
    "f) Thông kê tổng số (cases) và (deaths) của từng lục địa (continentExp)."
   ]
  },
  {
   "cell_type": "code",
   "execution_count": 52,
   "metadata": {},
   "outputs": [
    {
     "name": "stdout",
     "output_type": "stream",
     "text": [
      "                 cases  deaths\n",
      "continentExp                  \n",
      "Africa         1656480   39931\n",
      "America       18977833  611701\n",
      "Asia          12516197  224029\n",
      "Europe         7284085  242594\n",
      "Oceania          37214    1021\n",
      "Other              696       7\n"
     ]
    }
   ],
   "source": [
    "# tong so cases va deaths theo luc dia\n",
    "\n",
    "data_contientExp = data.groupby('continentExp').sum()[['cases', 'deaths']]\n",
    "print(data_contientExp)"
   ]
  },
  {
   "cell_type": "markdown",
   "metadata": {},
   "source": [
    "g) Vẽ biểu đồ bar để biểu diễn câu f) (mô tả : Trục ngang là các continentExp , mỗi continentExp có 2 cột biểu diễn cases và deaths) (Cả 2 cách pandas và seaborn trên cùng figure)."
   ]
  },
  {
   "cell_type": "code",
   "execution_count": 53,
   "metadata": {},
   "outputs": [
    {
     "name": "stderr",
     "output_type": "stream",
     "text": [
      "C:\\Users\\Justmechan\\anaconda3\\lib\\site-packages\\seaborn\\_decorators.py:36: FutureWarning: Pass the following variables as keyword args: x, y. From version 0.12, the only valid positional argument will be `data`, and passing other arguments without an explicit keyword will result in an error or misinterpretation.\n",
      "  warnings.warn(\n"
     ]
    },
    {
     "data": {
      "image/png": "[encoded data removed]",
      "text/plain": [
       "<Figure size 432x288 with 1 Axes>"
      ]
     },
     "metadata": {
      "needs_background": "light"
     },
     "output_type": "display_data"
    },
    {
     "data": {
      "image/png": "[encoded data removed]",
      "text/plain": [
       "<Figure size 432x432 with 1 Axes>"
      ]
     },
     "metadata": {
      "needs_background": "light"
     },
     "output_type": "display_data"
    }
   ],
   "source": [
    "# ve bieu do the hien\n",
    "\n",
    "#plt.figure(figsize = (24, 6))\n",
    "#plt.subplot(1, 2, 1)\n",
    "data_contientExp.plot(y = ['cases', 'deaths'], kind = 'bar')\n",
    "#plt.subplot(1, 2, 2)\n",
    "plt.figure(figsize = (6, 6))\n",
    "sns.barplot('cases', \"deaths\", data = data_contientExp);"
   ]
  },
  {
   "cell_type": "markdown",
   "metadata": {},
   "source": [
    "h) Trích data có columns là Việt Nam."
   ]
  },
  {
   "cell_type": "code",
   "execution_count": 54,
   "metadata": {},
   "outputs": [
    {
     "name": "stdout",
     "output_type": "stream",
     "text": [
      "       day  month  year  cases  deaths countriesAndTerritories continentExp\n",
      "49109   20     10  2020      6       0                 Vietnam         Asia\n",
      "49110   19     10  2020      8       0                 Vietnam         Asia\n",
      "49111   18     10  2020      2       0                 Vietnam         Asia\n",
      "49112   17     10  2020      0       0                 Vietnam         Asia\n",
      "49113   16     10  2020      2       0                 Vietnam         Asia\n",
      "...    ...    ...   ...    ...     ...                     ...          ...\n",
      "49395    4      1  2020      0       0                 Vietnam         Asia\n",
      "49396    3      1  2020      0       0                 Vietnam         Asia\n",
      "49397    2      1  2020      0       0                 Vietnam         Asia\n",
      "49398    1      1  2020      0       0                 Vietnam         Asia\n",
      "49399   31     12  2019      0       0                 Vietnam         Asia\n",
      "\n",
      "[291 rows x 7 columns]\n"
     ]
    }
   ],
   "source": [
    "# trich du lieu theo cot la Viet Nam\n",
    "\n",
    "data_VN = data.loc[data.countriesAndTerritories == 'Vietnam']\n",
    "print(data_VN)"
   ]
  },
  {
   "cell_type": "markdown",
   "metadata": {},
   "source": [
    "i) Thống kê số lượng cases và deaths theo từng tháng của Việt Nam bắt đầu từ 1/1/2020."
   ]
  },
  {
   "cell_type": "code",
   "execution_count": 55,
   "metadata": {},
   "outputs": [
    {
     "name": "stdout",
     "output_type": "stream",
     "text": [
      "       cases  deaths\n",
      "month               \n",
      "1          5       0\n",
      "2         11       0\n",
      "3        190       0\n",
      "4         64       0\n",
      "5         57       0\n",
      "6         28       0\n",
      "7        154       0\n",
      "8        531      32\n",
      "9         54       3\n",
      "10        46       0\n"
     ]
    }
   ],
   "source": [
    "# thong ke cases va deaths theo thang\n",
    "\n",
    "data_VN = data_VN.loc[data['year'] >= 2020]\n",
    "data_date = data_VN.groupby('month').sum()[['cases', 'deaths']]\n",
    "print(data_date)"
   ]
  },
  {
   "cell_type": "markdown",
   "metadata": {},
   "source": [
    "\n",
    "j) Vẽ biểu đồ đường để biểu i) (đồ thị gồm 2 line) và chú thích điểm lớn nhất trên từng line. (Dùng pandas hoặc seaborn)."
   ]
  },
  {
   "cell_type": "code",
   "execution_count": 56,
   "metadata": {},
   "outputs": [
    {
     "data": {
      "text/plain": [
       "<AxesSubplot:xlabel='month'>"
      ]
     },
     "execution_count": 56,
     "metadata": {},
     "output_type": "execute_result"
    },
    {
     "data": {
      "image/png": "[encoded data removed]",
      "text/plain": [
       "<Figure size 432x288 with 1 Axes>"
      ]
     },
     "metadata": {
      "needs_background": "light"
     },
     "output_type": "display_data"
    }
   ],
   "source": [
    "# ve bieu do the hien\n",
    "\n",
    "data_date.plot(kind='line')"
   ]
  }
 ],
 "metadata": {
  "interpreter": {
   "hash": "5713120658bd4218162b74d492e37367ba65a05602f7879e8a5aea7478a261fd"
  },
  "kernelspec": {
   "display_name": "Python 3.10.0 64-bit",
   "language": "python",
   "name": "python3"
  },
  "language_info": {
   "codemirror_mode": {
    "name": "ipython",
    "version": 3
   },
   "file_extension": ".py",
   "mimetype": "text/x-python",
   "name": "python",
   "nbconvert_exporter": "python",
   "pygments_lexer": "ipython3",
   "version": "3.9.7"
  },
  "orig_nbformat": 4
 },
 "nbformat": 4,
 "nbformat_minor": 2
}
